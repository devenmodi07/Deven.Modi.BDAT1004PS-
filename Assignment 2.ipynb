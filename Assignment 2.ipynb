{
 "cells": [
  {
   "cell_type": "code",
   "execution_count": 12,
   "id": "c56c2ddf",
   "metadata": {},
   "outputs": [
    {
     "data": {
      "text/plain": [
       "6"
      ]
     },
     "execution_count": 12,
     "metadata": {},
     "output_type": "execute_result"
    }
   ],
   "source": [
    "#QUE 1\n",
    "\n",
    "a = 0\n",
    "def b():\n",
    " global a\n",
    " a = c(a)\n",
    "def c(a):\n",
    " return a + 2\n",
    "\n",
    "b()\n",
    "b()\n",
    "b()\n",
    "a\n"
   ]
  },
  {
   "cell_type": "code",
   "execution_count": null,
   "id": "e9b509dd",
   "metadata": {},
   "outputs": [],
   "source": [
    "This code defines a global variable a with a value of 0, and two functions b() and c(a).\n",
    "c(a) adds 2 to its argument a and returns the result. \n",
    "b() modifies the global variable a by calling c(a) and setting a to the result.\n",
    "When b() is called three times, a is set to 2, then 4, and finally 6.\n",
    "The value of a is 6 when the last expression a is evaluated in the interpreter."
   ]
  },
  {
   "cell_type": "code",
   "execution_count": 30,
   "id": "8f4ca063",
   "metadata": {},
   "outputs": [
    {
     "name": "stdout",
     "output_type": "stream",
     "text": [
      "File midterm.py not found.\n",
      "File idterm.py not found.\n"
     ]
    }
   ],
   "source": [
    "#QUE 2\n",
    "\n",
    "def fileLength(filename):\n",
    "    try:\n",
    "        with open(filename, 'r') as infile:\n",
    "            contents = infile.read()\n",
    "            length = len(contents)\n",
    "            print (length)\n",
    "    except:\n",
    "        print(f\"File {filename} not found.\")\n",
    "        \n",
    "fileLength('midterm.py')\n",
    "fileLength('idterm.py') \n"
   ]
  },
  {
   "cell_type": "code",
   "execution_count": 46,
   "id": "4e551cb6",
   "metadata": {},
   "outputs": [
    {
     "name": "stdout",
     "output_type": "stream",
     "text": [
      "I am a Kangaroo located at coordinates (0,0)\n",
      "['doll', 'firetruck', 'kitten']\n",
      "I am a Kangaroo located at coordinates (3,0)\n"
     ]
    }
   ],
   "source": [
    "#QUE 3\n",
    "\n",
    "\n",
    "class Marsupial:\n",
    "    def __init__(a):\n",
    "        a.pouch = []\n",
    "    \n",
    "    def put_in_pouch(a, b):\n",
    "        a.pouch.append(b)\n",
    "    \n",
    "    def pouch_contents(a):\n",
    "        return a.pouch\n",
    "\n",
    "class Kangaroo(Marsupial):\n",
    "    def __init__(a, x=0, y=0):\n",
    "        super().__init__()\n",
    "        a.x = x\n",
    "        a.y = y\n",
    "    \n",
    "    def jump(a, dx, dy):\n",
    "        a.x += dx\n",
    "        a.y += dy\n",
    "    \n",
    "    def __str__(a):\n",
    "        return f\"I am a Kangaroo located at coordinates ({a.x},{a.y})\"\n",
    "\n",
    "k = Kangaroo(0, 0)\n",
    "print(k)\n",
    "\n",
    "k.put_in_pouch('doll')\n",
    "k.put_in_pouch('firetruck')\n",
    "k.put_in_pouch('kitten')\n",
    "print(k.pouch_contents())\n",
    "\n",
    "k.jump(1, 0)\n",
    "k.jump(1, 0)\n",
    "k.jump(1, 0)\n",
    "print(k)\n",
    "\n"
   ]
  },
  {
   "cell_type": "code",
   "execution_count": 33,
   "id": "c13d78d7",
   "metadata": {},
   "outputs": [
    {
     "name": "stdout",
     "output_type": "stream",
     "text": [
      "1\n",
      "10\n",
      "5\n",
      "16\n",
      "8\n",
      "4\n",
      "2\n",
      "1\n"
     ]
    }
   ],
   "source": [
    "#QUE 4\n",
    "\n",
    "def collatz(x):\n",
    "    if x == 1:\n",
    "        print(1)\n",
    "    elif x % 2 == 0:\n",
    "        print(x)\n",
    "        collatz(x // 2)\n",
    "    else:\n",
    "        print(x)\n",
    "        collatz(3 * x + 1)\n",
    "        \n",
    "collatz(1)\n",
    "\n",
    "collatz(10)\n",
    "\n"
   ]
  },
  {
   "cell_type": "code",
   "execution_count": 34,
   "id": "75c6df4e",
   "metadata": {},
   "outputs": [
    {
     "name": "stdout",
     "output_type": "stream",
     "text": [
      "01111001"
     ]
    }
   ],
   "source": [
    "#QUE 5\n",
    "\n",
    "def binary(n):\n",
    "    if n == 0:\n",
    "        print(0, end=\"\")\n",
    "    elif n == 1:\n",
    "        print(1, end=\"\")\n",
    "    else:\n",
    "        binary(n // 2)\n",
    "        print(n % 2, end=\"\")\n",
    "        \n",
    "binary(0)\n",
    "\n",
    "binary(1)\n",
    "\n",
    "binary(3)\n",
    "\n",
    "binary(9)\n",
    "\n"
   ]
  },
  {
   "cell_type": "code",
   "execution_count": 58,
   "id": "58c2fe05",
   "metadata": {},
   "outputs": [
    {
     "name": "stdout",
     "output_type": "stream",
     "text": [
      "\n"
     ]
    }
   ],
   "source": [
    "#QUE 6\n",
    "\n",
    "from lxml import etree\n",
    "\n",
    "class HeadingParser:\n",
    "    def __init__(self):\n",
    "        self.headings = []\n",
    "\n",
    "    def handle_start(self, tag, attrib):\n",
    "        if tag.startswith('h'):\n",
    "            level = int(tag[1])\n",
    "            text = etree.tostring(etree.Element(tag, attrib=attrib)).decode()\n",
    "            self.headings.append((' ' * (level-1)) + text)\n",
    "\n",
    "    def handle_end(self, tag):\n",
    "        pass\n",
    "\n",
    "    def handle_data(self, data):\n",
    "        pass\n",
    "\n",
    "    def feed(self, data):\n",
    "        parser = etree.HTMLParser(target=self)\n",
    "        parser.feed(data)\n",
    "\n",
    "    def print_headings(self):\n",
    "        print('\\n'.join(self.headings))\n",
    "\n",
    "\n",
    "            \n",
    "infile = open('w3c.html')\n",
    "content = infile.read()\n",
    "infile.close()\n",
    "\n",
    "hp = HeadingParser()\n",
    "hp.feed(content)\n",
    "hp.print_headings()\n",
    "\n"
   ]
  },
  {
   "cell_type": "code",
   "execution_count": 38,
   "id": "687dfe1f",
   "metadata": {},
   "outputs": [
    {
     "name": "stdout",
     "output_type": "stream",
     "text": [
      "Error opening URL: \n"
     ]
    }
   ],
   "source": [
    "#QUE 7\n",
    "\n",
    "from urllib.request import urlopen\n",
    "from urllib.parse import urljoin\n",
    "from urllib.error import URLError\n",
    "import re\n",
    "\n",
    "def webdir(url, depth, indent):\n",
    "    try:\n",
    "        x = urlopen(url)\n",
    "    except URLError as e:\n",
    "        print(\"Error opening URL:\", e.reason)\n",
    "        return\n",
    "\n",
    "    for i in range(indent):\n",
    "        print(\" \", end=\"\")\n",
    "    print(url)\n",
    "\n",
    "    if depth == 0:\n",
    "        return\n",
    "\n",
    "    links = re.findall('''href=[\"'](.[^\"']+)[\"']''', x.read().decode())\n",
    "    for link in links:\n",
    "        if link.startswith('http'):\n",
    "            webdir(link, depth-1, indent+1)\n",
    "        else:\n",
    "            webdir(urljoin(url, link), depth-1, indent+1)\n",
    "            \n",
    "webdir('http://reed.cs.depaul.edu/lperkovic/csc242/test1.html', 2, 0)"
   ]
  },
  {
   "cell_type": "code",
   "execution_count": 45,
   "id": "67f7209d",
   "metadata": {},
   "outputs": [
    {
     "name": "stdout",
     "output_type": "stream",
     "text": [
      "['THE', 'QUICK', 'BROWN', 'FOX', 'JUMPS', 'OVER', 'THE', 'LAZY', 'DOG']\n",
      "['the', 'quick', 'brown', 'fox', 'jumps', 'over', 'the', 'lazy', 'dog']\n",
      "[3, 5, 5, 3, 5, 4, 3, 4, 3]\n",
      "[['THE', 'the', 3], ['QUICK', 'quick', 5], ['BROWN', 'brown', 5], ['FOX', 'fox', 3], ['JUMPS', 'jumps', 5], ['OVER', 'over', 4], ['THE', 'the', 3], ['LAZY', 'lazy', 4], ['DOG', 'dog', 3]]\n",
      "['quick', 'brown', 'jumps', 'over', 'lazy']\n"
     ]
    }
   ],
   "source": [
    "#QUE 9\n",
    "\n",
    "words = ['The', 'quick', 'brown', 'fox', 'jumps', 'over','the', 'lazy', 'dog']\n",
    "\n",
    "a = [x.upper() for x in words]\n",
    "print(a)\n",
    "b = [x.lower() for x in words]\n",
    "print(b)\n",
    "c = [len(x) for x in words]\n",
    "print(c)\n",
    "d = [[x.upper(), x.lower(), len(x)] for x in words]\n",
    "print(d)\n",
    "e = [x for x in words if len(x) >= 4]\n",
    "print(e)"
   ]
  }
 ],
 "metadata": {
  "kernelspec": {
   "display_name": "Python 3 (ipykernel)",
   "language": "python",
   "name": "python3"
  },
  "language_info": {
   "codemirror_mode": {
    "name": "ipython",
    "version": 3
   },
   "file_extension": ".py",
   "mimetype": "text/x-python",
   "name": "python",
   "nbconvert_exporter": "python",
   "pygments_lexer": "ipython3",
   "version": "3.9.13"
  }
 },
 "nbformat": 4,
 "nbformat_minor": 5
}
